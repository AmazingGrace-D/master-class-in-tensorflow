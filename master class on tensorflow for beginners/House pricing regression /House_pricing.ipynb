{
 "cells": [
  {
   "cell_type": "code",
   "execution_count": 1,
   "metadata": {},
   "outputs": [],
   "source": [
    "import numpy as np\n",
    "import sklearn as sk\n",
    "import seaborn as sns\n",
    "import tensorflow.compat.v1 as tf\n",
    "tf.disable_eager_execution()\n",
    "import pandas as pd\n",
    "import warnings\n",
    "warnings.filterwarnings('ignore')\n",
    "import os\n",
    "current_dir = os.getcwd()"
   ]
  },
  {
   "cell_type": "code",
   "execution_count": 2,
   "metadata": {},
   "outputs": [],
   "source": [
    "from sklearn.datasets import fetch_california_housing"
   ]
  },
  {
   "cell_type": "code",
   "execution_count": 3,
   "metadata": {},
   "outputs": [],
   "source": [
    "housing = fetch_california_housing()\n",
    "m, n = housing.data.shape"
   ]
  },
  {
   "cell_type": "code",
   "execution_count": 4,
   "metadata": {},
   "outputs": [
    {
     "data": {
      "text/html": [
       "<div>\n",
       "<style scoped>\n",
       "    .dataframe tbody tr th:only-of-type {\n",
       "        vertical-align: middle;\n",
       "    }\n",
       "\n",
       "    .dataframe tbody tr th {\n",
       "        vertical-align: top;\n",
       "    }\n",
       "\n",
       "    .dataframe thead th {\n",
       "        text-align: right;\n",
       "    }\n",
       "</style>\n",
       "<table border=\"1\" class=\"dataframe\">\n",
       "  <thead>\n",
       "    <tr style=\"text-align: right;\">\n",
       "      <th></th>\n",
       "      <th>0</th>\n",
       "      <th>1</th>\n",
       "      <th>2</th>\n",
       "      <th>3</th>\n",
       "      <th>4</th>\n",
       "      <th>5</th>\n",
       "      <th>6</th>\n",
       "      <th>7</th>\n",
       "    </tr>\n",
       "  </thead>\n",
       "  <tbody>\n",
       "    <tr>\n",
       "      <td>0</td>\n",
       "      <td>8.3252</td>\n",
       "      <td>41.0</td>\n",
       "      <td>6.984127</td>\n",
       "      <td>1.023810</td>\n",
       "      <td>322.0</td>\n",
       "      <td>2.555556</td>\n",
       "      <td>37.88</td>\n",
       "      <td>-122.23</td>\n",
       "    </tr>\n",
       "    <tr>\n",
       "      <td>1</td>\n",
       "      <td>8.3014</td>\n",
       "      <td>21.0</td>\n",
       "      <td>6.238137</td>\n",
       "      <td>0.971880</td>\n",
       "      <td>2401.0</td>\n",
       "      <td>2.109842</td>\n",
       "      <td>37.86</td>\n",
       "      <td>-122.22</td>\n",
       "    </tr>\n",
       "    <tr>\n",
       "      <td>2</td>\n",
       "      <td>7.2574</td>\n",
       "      <td>52.0</td>\n",
       "      <td>8.288136</td>\n",
       "      <td>1.073446</td>\n",
       "      <td>496.0</td>\n",
       "      <td>2.802260</td>\n",
       "      <td>37.85</td>\n",
       "      <td>-122.24</td>\n",
       "    </tr>\n",
       "    <tr>\n",
       "      <td>3</td>\n",
       "      <td>5.6431</td>\n",
       "      <td>52.0</td>\n",
       "      <td>5.817352</td>\n",
       "      <td>1.073059</td>\n",
       "      <td>558.0</td>\n",
       "      <td>2.547945</td>\n",
       "      <td>37.85</td>\n",
       "      <td>-122.25</td>\n",
       "    </tr>\n",
       "    <tr>\n",
       "      <td>4</td>\n",
       "      <td>3.8462</td>\n",
       "      <td>52.0</td>\n",
       "      <td>6.281853</td>\n",
       "      <td>1.081081</td>\n",
       "      <td>565.0</td>\n",
       "      <td>2.181467</td>\n",
       "      <td>37.85</td>\n",
       "      <td>-122.25</td>\n",
       "    </tr>\n",
       "  </tbody>\n",
       "</table>\n",
       "</div>"
      ],
      "text/plain": [
       "        0     1         2         3       4         5      6       7\n",
       "0  8.3252  41.0  6.984127  1.023810   322.0  2.555556  37.88 -122.23\n",
       "1  8.3014  21.0  6.238137  0.971880  2401.0  2.109842  37.86 -122.22\n",
       "2  7.2574  52.0  8.288136  1.073446   496.0  2.802260  37.85 -122.24\n",
       "3  5.6431  52.0  5.817352  1.073059   558.0  2.547945  37.85 -122.25\n",
       "4  3.8462  52.0  6.281853  1.081081   565.0  2.181467  37.85 -122.25"
      ]
     },
     "execution_count": 4,
     "metadata": {},
     "output_type": "execute_result"
    }
   ],
   "source": [
    "frame = pd.DataFrame(housing.data)\n",
    "frame.head()"
   ]
  },
  {
   "cell_type": "code",
   "execution_count": 5,
   "metadata": {},
   "outputs": [
    {
     "data": {
      "text/plain": [
       "(20640, 8)"
      ]
     },
     "execution_count": 5,
     "metadata": {},
     "output_type": "execute_result"
    }
   ],
   "source": [
    "frame.shape"
   ]
  },
  {
   "cell_type": "code",
   "execution_count": 6,
   "metadata": {},
   "outputs": [
    {
     "data": {
      "text/plain": [
       "(20640, 1)"
      ]
     },
     "execution_count": 6,
     "metadata": {},
     "output_type": "execute_result"
    }
   ],
   "source": [
    "target = pd.DataFrame(housing.target)\n",
    "target.shape"
   ]
  },
  {
   "cell_type": "code",
   "execution_count": 7,
   "metadata": {},
   "outputs": [],
   "source": [
    "from sklearn.model_selection import train_test_split\n",
    "x_train, x_test, y_train, y_test = train_test_split(frame, target, test_size = 0.20, random_state = 42)"
   ]
  },
  {
   "cell_type": "markdown",
   "metadata": {},
   "source": [
    "# Ensemble learning\n"
   ]
  },
  {
   "cell_type": "code",
   "execution_count": 8,
   "metadata": {},
   "outputs": [
    {
     "data": {
      "text/plain": [
       "GradientBoostingRegressor(alpha=0.9, ccp_alpha=0.0, criterion='friedman_mse',\n",
       "                          init=None, learning_rate=0.1, loss='ls', max_depth=3,\n",
       "                          max_features=None, max_leaf_nodes=None,\n",
       "                          min_impurity_decrease=0.0, min_impurity_split=None,\n",
       "                          min_samples_leaf=1, min_samples_split=2,\n",
       "                          min_weight_fraction_leaf=0.0, n_estimators=100,\n",
       "                          n_iter_no_change=None, presort='deprecated',\n",
       "                          random_state=None, subsample=1.0, tol=0.0001,\n",
       "                          validation_fraction=0.1, verbose=0, warm_start=False)"
      ]
     },
     "execution_count": 8,
     "metadata": {},
     "output_type": "execute_result"
    }
   ],
   "source": [
    "from sklearn.ensemble import GradientBoostingRegressor\n",
    "gbrt = GradientBoostingRegressor()\n",
    "gbrt.fit(x_train, y_train)"
   ]
  },
  {
   "cell_type": "code",
   "execution_count": 9,
   "metadata": {},
   "outputs": [
    {
     "name": "stdout",
     "output_type": "stream",
     "text": [
      "Training score:  0.8048978817773167\n",
      "Testing score:  0.29393470011606526\n"
     ]
    }
   ],
   "source": [
    "pred = gbrt.predict(x_test)\n",
    "from sklearn.metrics import mean_squared_error\n",
    "print('Training score: ', gbrt.score(x_train, y_train))\n",
    "print('Testing score: ', mean_squared_error(y_test, pred))"
   ]
  },
  {
   "cell_type": "code",
   "execution_count": 10,
   "metadata": {},
   "outputs": [
    {
     "data": {
      "text/plain": [
       "0.5"
      ]
     },
     "execution_count": 10,
     "metadata": {},
     "output_type": "execute_result"
    }
   ],
   "source": [
    "9000/18000"
   ]
  },
  {
   "cell_type": "code",
   "execution_count": 11,
   "metadata": {},
   "outputs": [
    {
     "data": {
      "text/plain": [
       "1.0"
      ]
     },
     "execution_count": 11,
     "metadata": {},
     "output_type": "execute_result"
    }
   ],
   "source": [
    "np.round(0.51)"
   ]
  },
  {
   "cell_type": "code",
   "execution_count": 12,
   "metadata": {},
   "outputs": [
    {
     "name": "stdout",
     "output_type": "stream",
     "text": [
      "0.0\n"
     ]
    }
   ],
   "source": [
    "def compute_accuracy(y_test, pred):\n",
    "    output = []\n",
    "    for i, j in zip(y_test, pred):\n",
    "        cal = i/j\n",
    "        if cal > 1:\n",
    "            output.append(np.round(j/i))\n",
    "            \n",
    "        else:\n",
    "            output.append(np.round(cal))\n",
    "            \n",
    "    return np.sum(output)/len(output)\n",
    "\n",
    "print(compute_accuracy(y_test, pred))"
   ]
  },
  {
   "cell_type": "code",
   "execution_count": 13,
   "metadata": {},
   "outputs": [
    {
     "data": {
      "text/plain": [
       "(16512, 8)"
      ]
     },
     "execution_count": 13,
     "metadata": {},
     "output_type": "execute_result"
    }
   ],
   "source": [
    "x_train.shape"
   ]
  },
  {
   "cell_type": "markdown",
   "metadata": {},
   "source": [
    "# Manually computing MSE with the use of optimizers"
   ]
  },
  {
   "cell_type": "code",
   "execution_count": 126,
   "metadata": {},
   "outputs": [
    {
     "name": "stderr",
     "output_type": "stream",
     "text": [
      "Using TensorFlow backend.\n"
     ]
    }
   ],
   "source": [
    "from keras.backend import clear_session\n",
    "# Before instantiating a tf.data.Dataset obj & before model creation, call:\n",
    "clear_session()"
   ]
  },
  {
   "cell_type": "code",
   "execution_count": 127,
   "metadata": {},
   "outputs": [],
   "source": [
    "#X = tf.constant(housing_data_plus_bias, dtype =tf.float32, name = 'X')\n",
    "#y = tf.constant(housing.target.reshape(-1,1), dtype = tf.float32, name = 'y')\n",
    "#XT = tf.transpose(X)\n",
    "#theta = tf.matmul(tf.matmul(tf.matrix_inverse(tf.matmul(XT, X)), XT), y)\n",
    "\n",
    "#with tf.Session() as sess:\n",
    "#    theta_value = theta.eval()"
   ]
  },
  {
   "cell_type": "code",
   "execution_count": 16,
   "metadata": {},
   "outputs": [
    {
     "name": "stdout",
     "output_type": "stream",
     "text": [
      "number of batches is:  17\n"
     ]
    }
   ],
   "source": [
    "batch_size = 1000\n",
    "n_batches = int(np.ceil(16512/batch_size))\n",
    "print('number of batches is: ', str(n_batches))"
   ]
  },
  {
   "cell_type": "code",
   "execution_count": 17,
   "metadata": {},
   "outputs": [],
   "source": [
    "def fetch_batch(batch_index):\n",
    "    if batch_index < n_batches-1:\n",
    "        start = batch_index * batch_size\n",
    "        stop = batch_size + start\n",
    "        x_batch = x_train[start:stop]\n",
    "        y_batch = y_train[start:stop]\n",
    "        \n",
    "    else:\n",
    "        start = batch_index* batch_size\n",
    "        x_batch = x_train[start:]\n",
    "        y_batch = y_train[start:]\n",
    "    return x_batch, y_batch"
   ]
  },
  {
   "cell_type": "code",
   "execution_count": 18,
   "metadata": {},
   "outputs": [
    {
     "data": {
      "text/plain": [
       "((16512, 8), (16512, 1))"
      ]
     },
     "execution_count": 18,
     "metadata": {},
     "output_type": "execute_result"
    }
   ],
   "source": [
    "x_train.shape, y_train.shape"
   ]
  },
  {
   "cell_type": "code",
   "execution_count": 19,
   "metadata": {},
   "outputs": [],
   "source": [
    "m, n = x_train.shape"
   ]
  },
  {
   "cell_type": "code",
   "execution_count": 20,
   "metadata": {},
   "outputs": [
    {
     "name": "stdout",
     "output_type": "stream",
     "text": [
      "WARNING:tensorflow:From /home/odemakinde/anaconda3/lib/python3.7/site-packages/tensorflow_core/python/ops/resource_variable_ops.py:1630: calling BaseResourceVariable.__init__ (from tensorflow.python.ops.resource_variable_ops) with constraint is deprecated and will be removed in a future version.\n",
      "Instructions for updating:\n",
      "If using Keras pass *_constraint arguments to layers.\n",
      "WARNING:tensorflow:From /home/odemakinde/anaconda3/lib/python3.7/site-packages/tensorflow_core/python/training/rmsprop.py:119: calling Ones.__init__ (from tensorflow.python.ops.init_ops) with dtype is deprecated and will be removed in a future version.\n",
      "Instructions for updating:\n",
      "Call initializer instance with the dtype argument instead of passing it to the constructor\n",
      "Epoch: 01 | Average Training Loss= 13934.86 | Training Accuracy:  487066.78 | Test/Validation Accuracy:  476669.84\n",
      "Model fit complete.\n",
      "Final Training MSE: 139.37\n",
      "Final Validation MSE: 102.96\n"
     ]
    }
   ],
   "source": [
    "#X = tf.constant(housing_data_plus_bias, dtype =tf.float32, name = 'X')\n",
    "#y = tf.constant(housing.target.reshape(-1,1), dtype = tf.float32, name = 'y')\n",
    "\n",
    "X = tf.placeholder(tf.float32, shape = (None,8), name = 'x')\n",
    "y = tf.placeholder(tf.float32, shape = (None,1), name = 'y')\n",
    "\n",
    "with tf.name_scope('loss'):\n",
    "    #theta = tf.Variable(tf.random_uniform((8,1), -1.0, 1.0), name = 'theta')\n",
    "    stddev = 2/np.sqrt(8)\n",
    "    w = tf.Variable(tf.random_normal((8,1), stddev = stddev, name = 'weights'))\n",
    "    b = tf.Variable(tf.zeros(m,1), name = 'biases')\n",
    "    y_pred = tf.add(tf.matmul(X,w),b, name= 'predictions')\n",
    "    error = y_pred - y\n",
    "    mse = tf.reduce_mean(tf.square(error), name = 'mse')\n",
    "    \n",
    "with tf.name_scope('training'):\n",
    "    learning_rate = 0.01\n",
    "    optimizer= tf.train.RMSPropOptimizer(learning_rate = learning_rate)\n",
    "    training_op = optimizer.minimize(mse)\n",
    "    init = tf.global_variables_initializer()\n",
    "    saver = tf.train.Saver()\n",
    "\n",
    "train_loss, test_loss = [],[]\n",
    "\n",
    "n_epochs = 10\n",
    "with tf.Session() as sess:\n",
    "    \n",
    "    init.run()\n",
    "    for epoch in range(n_epochs):\n",
    "        batch_step = 0\n",
    "        avg_loss = 0\n",
    "        total_loss = 0\n",
    "        total_batch = int(x_train.shape[0]/batch_size)\n",
    "        for batch_index in range(n_batches):\n",
    "            x_batch, y_batch = fetch_batch(batch_index)\n",
    "            _,l = sess.run([training_op, mse], feed_dict= {X:x_batch, y:y_batch})\n",
    "            batch_step+=1\n",
    "            total_loss +=l\n",
    "        if epoch % 10 == 0: # print 5 batches of epochs\n",
    "            avg_loss = total_loss/batch_size\n",
    "            print(\"Epoch:\", '%02d' % (epoch+1), \"| Average Training Loss= {:.2f}\".format(avg_loss), \n",
    "                  \"| Training Accuracy:  {:.2f}\".format(mse.eval({X: x_train, y: y_train})),\n",
    "                  \"| Test/Validation Accuracy:  {:.2f}\".format(mse.eval({X: x_test, y: y_test})))\n",
    "            train_loss.append(mse.eval({X:x_train, y:y_train}))\n",
    "            test_loss.append(mse.eval({X:x_test, y:y_test}))\n",
    "        else:\n",
    "            train_loss.append(mse.eval({X:x_train, y:y_train}))\n",
    "            test_loss.append(mse.eval({X:x_test, y:y_test}))\n",
    "    \n",
    "    print(\"Model fit complete.\")\n",
    "    print(\"Final Training MSE: {:.2f}\".format(mse.eval({X: x_train, y: y_train})))\n",
    "    print(\"Final Validation MSE: {:.2f}\".format(mse.eval({X: x_test, y: y_test})))\n",
    "    save_path = saver.save(sess, './house_reg.h5')"
   ]
  },
  {
   "cell_type": "code",
   "execution_count": 21,
   "metadata": {},
   "outputs": [
    {
     "data": {
      "image/png": "[encoded data removed]",
      "text/plain": [
       "<Figure size 432x288 with 1 Axes>"
      ]
     },
     "metadata": {
      "needs_background": "light"
     },
     "output_type": "display_data"
    }
   ],
   "source": [
    "import seaborn as sns\n",
    "import matplotlib.pyplot as plt\n",
    "plt.plot(train_loss)\n",
    "plt.plot(test_loss)\n",
    "plt.title('model loss')\n",
    "plt.ylabel('loss')\n",
    "plt.xlabel('epoch')\n",
    "plt.legend(['train', 'test'], loc='upper left')\n",
    "plt.show()\n"
   ]
  },
  {
   "cell_type": "code",
   "execution_count": 22,
   "metadata": {},
   "outputs": [
    {
     "data": {
      "image/png": "[encoded data removed]",
      "text/plain": [
       "<Figure size 432x288 with 1 Axes>"
      ]
     },
     "metadata": {
      "needs_background": "light"
     },
     "output_type": "display_data"
    }
   ],
   "source": [
    "epoch_list = [i for i in range(10)]\n",
    "import seaborn as sns\n",
    "ax = sns.lineplot(x=epoch_list, y=train_loss)"
   ]
  },
  {
   "cell_type": "code",
   "execution_count": 23,
   "metadata": {},
   "outputs": [
    {
     "data": {
      "image/png": "[encoded data removed]",
      "text/plain": [
       "<Figure size 432x288 with 1 Axes>"
      ]
     },
     "metadata": {
      "needs_background": "light"
     },
     "output_type": "display_data"
    }
   ],
   "source": [
    "epoch_list = [i for i in range(10)]\n",
    "import seaborn as sns\n",
    "ax = sns.lineplot(x=epoch_list, y=test_loss)"
   ]
  },
  {
   "cell_type": "markdown",
   "metadata": {},
   "source": [
    "# Neural Networks"
   ]
  },
  {
   "cell_type": "code",
   "execution_count": 128,
   "metadata": {},
   "outputs": [],
   "source": [
    "from keras.backend import clear_session\n",
    "# Before instantiating a tf.data.Dataset obj & before model creation, call:\n",
    "clear_session()"
   ]
  },
  {
   "cell_type": "code",
   "execution_count": 129,
   "metadata": {},
   "outputs": [],
   "source": [
    "n_inputs = 8\n",
    "h1 = 40\n",
    "h2 = 100\n",
    "h3 = 20\n",
    "n_output = 1\n",
    "\n",
    "X = tf.placeholder(tf.float32, shape = (None,8), name = 'x')\n",
    "y = tf.placeholder(tf.float32, shape = (None,1), name = 'y')\n",
    "\n",
    "\n",
    "def neuron_layer(X, n_neurons, name, activation = None):\n",
    "    with tf.name_scope(name):\n",
    "        n_inputs = int(X.get_shape()[1])\n",
    "        stddev = 2/ np.sqrt(n_inputs)\n",
    "        init = tf.truncated_normal((n_inputs, n_neurons), stddev = stddev)\n",
    "        W = tf.Variable(init, name = 'weights')\n",
    "        b = tf.Variable(tf.zeros([n_neurons]), name = 'biases')\n",
    "        z = tf.matmul(X, W) + b\n",
    "        \n",
    "        if activation == 'relu':\n",
    "            return tf.nn.relu(z)\n",
    "        \n",
    "        else:\n",
    "            return z\n",
    "        \n",
    "with tf.name_scope('NeuralNet'):\n",
    "    hidden1 = neuron_layer(X, h1, 'hidden1', activation = 'relu')\n",
    "    hidden2 = neuron_layer(hidden1, h2, 'hidden2', activation = 'relu')\n",
    "    hidden3 = neuron_layer(hidden2, h3, 'hidden3', activation = 'relu')\n",
    "    y_pred = neuron_layer(hidden3, n_output, 'outputs')\n",
    "\n",
    "    \n",
    "with tf.name_scope('loss'):\n",
    "    error = y_pred - y\n",
    "    mse = tf.reduce_mean(tf.square(error), name = 'mse')\n",
    "    \n",
    "  "
   ]
  },
  {
   "cell_type": "code",
   "execution_count": 130,
   "metadata": {},
   "outputs": [
    {
     "name": "stdout",
     "output_type": "stream",
     "text": [
      "Epoch: 01 | Average Training Loss= 108980.76 | Training Accuracy:  19065.12 | Test/Validation Accuracy:  18829.13\n",
      "Model fit complete.\n",
      "Final Training MSE: 2.32\n",
      "Final Validation MSE: 2.28\n"
     ]
    }
   ],
   "source": [
    "with tf.name_scope('training'):\n",
    "    learning_rate = 0.01\n",
    "    optimizer = tf.train.RMSPropOptimizer(learning_rate = learning_rate)\n",
    "    training_op = optimizer.minimize(mse)\n",
    "    init = tf.global_variables_initializer()\n",
    "    saver = tf.train.Saver()\n",
    "\n",
    "train_loss = []\n",
    "test_loss = []\n",
    "n_epochs = 10\n",
    "\n",
    "\n",
    "with tf.Session() as sess:\n",
    "    writer = tf.summary.FileWriter('logs', sess.graph)\n",
    "    init.run()\n",
    "    for epoch in range(n_epochs):\n",
    "        batch_step = 0\n",
    "        avg_loss = 0\n",
    "        total_loss = 0\n",
    "        total_batch = int(x_train.shape[0]/batch_size)\n",
    "        for batch_index in range(n_batches):\n",
    "            x_batch, y_batch = fetch_batch(batch_index)\n",
    "            _,l = sess.run([training_op, mse], feed_dict= {X:x_batch, y:y_batch})\n",
    "            batch_step+=1\n",
    "            total_loss +=l\n",
    "        if epoch % 10 == 0: # print 5 batches of epochs\n",
    "            avg_loss = total_loss/batch_size\n",
    "            print(\"Epoch:\", '%02d' % (epoch+1), \"| Average Training Loss= {:.2f}\".format(avg_loss), \n",
    "                  \"| Training Accuracy:  {:.2f}\".format(mse.eval({X: x_train, y: y_train})),\n",
    "                  \"| Test/Validation Accuracy:  {:.2f}\".format(mse.eval({X: x_test, y: y_test})))\n",
    "            train_loss.append(mse.eval({X:x_train, y:y_train}))\n",
    "            test_loss.append(mse.eval({X:x_test, y:y_test}))\n",
    "        \n",
    "        else:\n",
    "            train_loss.append(mse.eval({X:x_train, y:y_train}))\n",
    "            test_loss.append(mse.eval({X:x_test, y:y_test}))\n",
    "                \n",
    "         \n",
    "    \n",
    "    print(\"Model fit complete.\")\n",
    "    print(\"Final Training MSE: {:.2f}\".format(mse.eval({X: x_train, y: y_train})))\n",
    "    print(\"Final Validation MSE: {:.2f}\".format(mse.eval({X: x_test, y: y_test})))\n",
    "    save_path = saver.save(sess, './house_reg2.h5')\n",
    "    writer.close()"
   ]
  },
  {
   "cell_type": "code",
   "execution_count": 131,
   "metadata": {},
   "outputs": [
    {
     "name": "stdout",
     "output_type": "stream",
     "text": [
      "The tensorboard extension is already loaded. To reload it, use:\n",
      "  %reload_ext tensorboard\n"
     ]
    },
    {
     "data": {
      "text/plain": [
       "Reusing TensorBoard on port 8008 (pid 18659), started 0:15:37 ago. (Use '!kill 18659' to kill it.)"
      ]
     },
     "metadata": {},
     "output_type": "display_data"
    },
    {
     "data": {
      "text/html": [
       "\n",
       "      <iframe id=\"tensorboard-frame-244d15a58f86d649\" width=\"100%\" height=\"800\" frameborder=\"0\">\n",
       "      </iframe>\n",
       "      <script>\n",
       "        (function() {\n",
       "          const frame = document.getElementById(\"tensorboard-frame-244d15a58f86d649\");\n",
       "          const url = new URL(\"/\", window.location);\n",
       "          url.port = 8008;\n",
       "          frame.src = url;\n",
       "        })();\n",
       "      </script>\n",
       "  "
      ],
      "text/plain": [
       "<IPython.core.display.HTML object>"
      ]
     },
     "metadata": {},
     "output_type": "display_data"
    }
   ],
   "source": [
    "import datetime, os\n",
    "import tensorboard\n",
    "%load_ext tensorboard\n",
    "\n",
    "#%reload_ext tensorboard\n",
    "logs_base_dir = \"./logs\"\n",
    "os.makedirs(logs_base_dir, exist_ok=True)\n",
    "%tensorboard --logdir {logs_base_dir} --host localhost --port 8008"
   ]
  },
  {
   "cell_type": "code",
   "execution_count": 106,
   "metadata": {},
   "outputs": [
    {
     "data": {
      "image/png": "[encoded data removed]",
      "text/plain": [
       "<Figure size 432x288 with 1 Axes>"
      ]
     },
     "metadata": {
      "needs_background": "light"
     },
     "output_type": "display_data"
    }
   ],
   "source": [
    "import seaborn as sns\n",
    "import matplotlib.pyplot as plt\n",
    "# summarize history for loss\n",
    "plt.plot(train_loss)\n",
    "plt.plot(test_loss)\n",
    "plt.title('model loss')\n",
    "plt.ylabel('loss')\n",
    "plt.xlabel('epoch')\n",
    "plt.legend(['train', 'test'], loc='upper left')\n",
    "plt.show()\n"
   ]
  },
  {
   "cell_type": "code",
   "execution_count": 107,
   "metadata": {},
   "outputs": [
    {
     "data": {
      "image/png": "[encoded data removed]",
      "text/plain": [
       "<Figure size 432x288 with 1 Axes>"
      ]
     },
     "metadata": {
      "needs_background": "light"
     },
     "output_type": "display_data"
    }
   ],
   "source": [
    "epoch_list = [i for i in range(10)]\n",
    "import seaborn as sns\n",
    "ax = sns.lineplot(x=epoch_list, y=train_loss)"
   ]
  },
  {
   "cell_type": "code",
   "execution_count": 108,
   "metadata": {},
   "outputs": [
    {
     "data": {
      "image/png": "[encoded data removed]",
      "text/plain": [
       "<Figure size 432x288 with 1 Axes>"
      ]
     },
     "metadata": {
      "needs_background": "light"
     },
     "output_type": "display_data"
    }
   ],
   "source": [
    "epoch_list = [i for i in range(n_epochs)]\n",
    "import seaborn as sns\n",
    "ax = sns.lineplot(x=epoch_list, y=test_loss)"
   ]
  },
  {
   "cell_type": "markdown",
   "metadata": {},
   "source": [
    "# Keras in tensorflow"
   ]
  },
  {
   "cell_type": "code",
   "execution_count": 133,
   "metadata": {},
   "outputs": [],
   "source": [
    "from tensorflow.compat.v1.keras.backend import clear_session\n",
    "# Before instantiating a tf.data.Dataset obj & before model creation, call:\n",
    "clear_session()"
   ]
  },
  {
   "cell_type": "code",
   "execution_count": 134,
   "metadata": {},
   "outputs": [],
   "source": [
    "from tensorflow.keras import layers\n",
    "logdir = \"logs/scalars/\" + datetime.datetime.now().strftime(\"%Y%m%d-%H%M%S\")\n",
    "tensorboard_callback = keras.callbacks.TensorBoard(log_dir=logdir)\n",
    "\n",
    "model = tf.keras.Sequential()\n",
    "model.add(layers.Dense(40,input_shape=(8,), activation='relu'))\n",
    "model.add(layers.Dense(100, activation='relu'))\n",
    "model.add(layers.Dense(20, activation='relu'))\n",
    "model.add(layers.Dense(1))\n"
   ]
  },
  {
   "cell_type": "code",
   "execution_count": 135,
   "metadata": {},
   "outputs": [
    {
     "name": "stdout",
     "output_type": "stream",
     "text": [
      "Model: \"sequential\"\n",
      "_________________________________________________________________\n",
      "Layer (type)                 Output Shape              Param #   \n",
      "=================================================================\n",
      "dense (Dense)                (None, 40)                360       \n",
      "_________________________________________________________________\n",
      "dense_1 (Dense)              (None, 100)               4100      \n",
      "_________________________________________________________________\n",
      "dense_2 (Dense)              (None, 20)                2020      \n",
      "_________________________________________________________________\n",
      "dense_3 (Dense)              (None, 1)                 21        \n",
      "=================================================================\n",
      "Total params: 6,501\n",
      "Trainable params: 6,501\n",
      "Non-trainable params: 0\n",
      "_________________________________________________________________\n"
     ]
    }
   ],
   "source": [
    "model.compile(optimizer=tf.keras.optimizers.RMSprop(0.01),\n",
    "              loss= tf.keras.losses.mean_squared_error,\n",
    "              metrics=['mse'])\n",
    "\n",
    "model.summary()"
   ]
  },
  {
   "cell_type": "code",
   "execution_count": 136,
   "metadata": {},
   "outputs": [
    {
     "name": "stdout",
     "output_type": "stream",
     "text": [
      "Train on 16512 samples, validate on 4128 samples\n",
      "Epoch 1/10\n",
      "16512/16512 [==============================] - 0s 13us/sample - loss: 19888.0934 - mse: 19888.0938 - val_loss: 9.3827 - val_mse: 9.3827\n",
      "Epoch 2/10\n",
      "16512/16512 [==============================] - 0s 5us/sample - loss: 943.2260 - mse: 943.2261 - val_loss: 33.9062 - val_mse: 33.9062\n",
      "Epoch 3/10\n",
      "16512/16512 [==============================] - 0s 5us/sample - loss: 505.2381 - mse: 505.2382 - val_loss: 23.5241 - val_mse: 23.5241\n",
      "Epoch 4/10\n",
      "16512/16512 [==============================] - 0s 5us/sample - loss: 6.1131 - mse: 6.1131 - val_loss: 11.3553 - val_mse: 11.3553\n",
      "Epoch 5/10\n",
      "16512/16512 [==============================] - 0s 5us/sample - loss: 14.0595 - mse: 14.0595 - val_loss: 8.7876 - val_mse: 8.7876\n",
      "Epoch 6/10\n",
      "16512/16512 [==============================] - 0s 5us/sample - loss: 6.5747 - mse: 6.5747 - val_loss: 2.3680 - val_mse: 2.3680\n",
      "Epoch 7/10\n",
      "16512/16512 [==============================] - 0s 5us/sample - loss: 1.8906 - mse: 1.8906 - val_loss: 1.6089 - val_mse: 1.6089\n",
      "Epoch 8/10\n",
      "16512/16512 [==============================] - 0s 4us/sample - loss: 1.7731 - mse: 1.7731 - val_loss: 2.3157 - val_mse: 2.3157\n",
      "Epoch 9/10\n",
      "16512/16512 [==============================] - 0s 5us/sample - loss: 2.4948 - mse: 2.4948 - val_loss: 3.9979 - val_mse: 3.9979\n",
      "Epoch 10/10\n",
      "16512/16512 [==============================] - 0s 5us/sample - loss: 2.8016 - mse: 2.8016 - val_loss: 4.3895 - val_mse: 4.3895\n"
     ]
    }
   ],
   "source": [
    "h = model.fit(x_train, y_train, epochs=10, batch_size=1000,validation_data=(x_test, y_test),callbacks=[tensorboard_callback])"
   ]
  },
  {
   "cell_type": "code",
   "execution_count": 137,
   "metadata": {},
   "outputs": [
    {
     "data": {
      "text/plain": [
       "Reusing TensorBoard on port 6011 (pid 18837), started 0:07:35 ago. (Use '!kill 18837' to kill it.)"
      ]
     },
     "metadata": {},
     "output_type": "display_data"
    },
    {
     "data": {
      "text/html": [
       "\n",
       "      <iframe id=\"tensorboard-frame-6d8fa9d9f66018b4\" width=\"100%\" height=\"800\" frameborder=\"0\">\n",
       "      </iframe>\n",
       "      <script>\n",
       "        (function() {\n",
       "          const frame = document.getElementById(\"tensorboard-frame-6d8fa9d9f66018b4\");\n",
       "          const url = new URL(\"/\", window.location);\n",
       "          url.port = 6011;\n",
       "          frame.src = url;\n",
       "        })();\n",
       "      </script>\n",
       "  "
      ],
      "text/plain": [
       "<IPython.core.display.HTML object>"
      ]
     },
     "metadata": {},
     "output_type": "display_data"
    }
   ],
   "source": [
    "%tensorboard --logdir logs/scalars"
   ]
  },
  {
   "cell_type": "code",
   "execution_count": 118,
   "metadata": {},
   "outputs": [],
   "source": [
    "with tf.Session() as sess:\n",
    "    init.run()\n",
    "    dict_h = h.history"
   ]
  },
  {
   "cell_type": "code",
   "execution_count": 119,
   "metadata": {},
   "outputs": [
    {
     "data": {
      "text/plain": [
       "dict_keys(['loss', 'mse', 'val_loss', 'val_mse'])"
      ]
     },
     "execution_count": 119,
     "metadata": {},
     "output_type": "execute_result"
    }
   ],
   "source": [
    "dict_h.keys()"
   ]
  },
  {
   "cell_type": "code",
   "execution_count": 120,
   "metadata": {},
   "outputs": [
    {
     "data": {
      "image/png": "[encoded data removed]",
      "text/plain": [
       "<Figure size 432x288 with 1 Axes>"
      ]
     },
     "metadata": {
      "needs_background": "light"
     },
     "output_type": "display_data"
    },
    {
     "data": {
      "image/png": "[encoded data removed]",
      "text/plain": [
       "<Figure size 432x288 with 1 Axes>"
      ]
     },
     "metadata": {
      "needs_background": "light"
     },
     "output_type": "display_data"
    }
   ],
   "source": [
    "# summarize history for accuracy\n",
    "\n",
    "plt.plot(dict_h['loss'])\n",
    "plt.plot(dict_h['val_loss'])\n",
    "plt.title('model loss')\n",
    "plt.ylabel('loss')\n",
    "plt.xlabel('epoch')\n",
    "plt.legend(['train', 'test'], loc='upper left')\n",
    "plt.show()\n",
    "# summarize history for loss\n",
    "plt.plot(dict_h['mse'])\n",
    "plt.plot(dict_h['val_mse'])\n",
    "plt.title('model mse')\n",
    "plt.ylabel('mse')\n",
    "plt.xlabel('epoch')\n",
    "plt.legend(['train', 'test'], loc='upper left')\n",
    "plt.show()"
   ]
  },
  {
   "cell_type": "code",
   "execution_count": 121,
   "metadata": {},
   "outputs": [
    {
     "name": "stdout",
     "output_type": "stream",
     "text": [
      "4128/4128 [==============================] - 0s 27us/sample - loss: 1.6663 - mse: 1.6663\n"
     ]
    },
    {
     "data": {
      "text/plain": [
       "[1.666309392729471, 1.6663095]"
      ]
     },
     "execution_count": 121,
     "metadata": {},
     "output_type": "execute_result"
    }
   ],
   "source": [
    "model.evaluate(x_test, y_test)"
   ]
  },
  {
   "cell_type": "code",
   "execution_count": 122,
   "metadata": {},
   "outputs": [
    {
     "name": "stdout",
     "output_type": "stream",
     "text": [
      "16512/16512 [==============================] - 0s 29us/sample - loss: 1.7238 - mse: 1.7238\n"
     ]
    },
    {
     "data": {
      "text/plain": [
       "[1.7238131475078968, 1.7238128]"
      ]
     },
     "execution_count": 122,
     "metadata": {},
     "output_type": "execute_result"
    }
   ],
   "source": [
    "model.evaluate(x_train, y_train)"
   ]
  },
  {
   "cell_type": "markdown",
   "metadata": {},
   "source": []
  }
 ],
 "metadata": {
  "kernelspec": {
   "display_name": "Python 3",
   "language": "python",
   "name": "python3"
  },
  "language_info": {
   "codemirror_mode": {
    "name": "ipython",
    "version": 3
   },
   "file_extension": ".py",
   "mimetype": "text/x-python",
   "name": "python",
   "nbconvert_exporter": "python",
   "pygments_lexer": "ipython3",
   "version": "3.7.4"
  }
 },
 "nbformat": 4,
 "nbformat_minor": 4
}
